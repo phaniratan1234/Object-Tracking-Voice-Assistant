{
 "cells": [
  {
   "cell_type": "code",
   "execution_count": 1,
   "metadata": {},
   "outputs": [
    {
     "name": "stderr",
     "output_type": "stream",
     "text": [
      "C:\\Users\\User\\anaconda3\\lib\\site-packages\\numpy\\_distributor_init.py:32: UserWarning: loaded more than 1 DLL from .libs:\n",
      "C:\\Users\\User\\anaconda3\\lib\\site-packages\\numpy\\.libs\\libopenblas.GK7GX5KEQ4F6UYO3P26ULGBQYHGQO7J4.gfortran-win_amd64.dll\n",
      "C:\\Users\\User\\anaconda3\\lib\\site-packages\\numpy\\.libs\\libopenblas.WCDJNK7YVMPZQ2ME2ZZHJJRJ3JIKNDB7.gfortran-win_amd64.dll\n",
      "  stacklevel=1)\n"
     ]
    }
   ],
   "source": [
    "import cv2"
   ]
  },
  {
   "cell_type": "code",
   "execution_count": 2,
   "metadata": {},
   "outputs": [],
   "source": [
    "import numpy as np"
   ]
  },
  {
   "cell_type": "code",
   "execution_count": 3,
   "metadata": {},
   "outputs": [],
   "source": [
    "import matplotlib.pyplot as plt"
   ]
  },
  {
   "cell_type": "code",
   "execution_count": 4,
   "metadata": {},
   "outputs": [],
   "source": [
    "net=cv2.dnn.readNetFromDarknet(\"yolo.cfg\",\"yolov3-spp.weights\")"
   ]
  },
  {
   "cell_type": "code",
   "execution_count": 5,
   "metadata": {},
   "outputs": [],
   "source": [
    "classes=[]\n",
    "with open('coco.names','r') as f:\n",
    "    classes=[line.strip() for line in f.readlines()]"
   ]
  },
  {
   "cell_type": "code",
   "execution_count": null,
   "metadata": {},
   "outputs": [
    {
     "name": "stdout",
     "output_type": "stream",
     "text": [
      "Listening....\n",
      "Recognizing....\n",
      "Listening....\n",
      "Recognizing....\n",
      "Listening....\n",
      "Recognizing....\n",
      "Listening....\n",
      "Recognizing....\n",
      "Listening....\n",
      "Recognizing....\n",
      "Listening....\n",
      "Recognizing....\n",
      "Listening....\n",
      "Recognizing....\n",
      "Listening....\n",
      "Recognizing....\n",
      "Listening....\n",
      "Recognizing....\n"
     ]
    }
   ],
   "source": [
    "vid = cv2.VideoCapture(0)\n",
    "from collections import defaultdict\n",
    "#\"Man Placing a Book and his Feet on a Table - Free Stock Creative Commons Video.mp4\"\n",
    "ht,wt,ch=480,640,3\n",
    "last_layer=net.getUnconnectedOutLayersNames()\n",
    "objects1={}\n",
    "objects={}\n",
    "while(vid.isOpened()):\n",
    "    ret, frame = vid.read()\n",
    "    track= defaultdict(lambda: 0)\n",
    "    frame=cv2.resize(frame,(640,480))\n",
    "    try:\n",
    "        blob=cv2.dnn.blobFromImage(frame,1/255,(416,416),(0,0,0),swapRB=True,crop=False)\n",
    "    except:\n",
    "        pass\n",
    "    net.setInput(blob)\n",
    "    layer_out=net.forward(last_layer)\n",
    "    boxes=[]\n",
    "    confidences=[]\n",
    "    classids=[]\n",
    "    for output in layer_out:\n",
    "        for detection in output:\n",
    "            score=detection[5:]\n",
    "            classid=np.argmax(score)\n",
    "            confidence=score[classid]\n",
    "            if confidence > .6:\n",
    "                center_x=int(detection[0] * wt)\n",
    "                center_y=int(detection[1] * ht)\n",
    "                w=int(detection[2] * wt)\n",
    "                h=int(detection[3] * ht)\n",
    "                boxes.append([center_x,center_y,w,h])\n",
    "                confidences.append((float(confidence)))\n",
    "                classids.append(classid)\n",
    "    indexes=cv2.dnn.NMSBoxes(boxes,confidences,0.5,0.4)\n",
    "    indexes=np.unique(indexes,axis=0)\n",
    "    font=cv2.FONT_HERSHEY_SIMPLEX\n",
    "    colors=np.random.uniform(0,255,size=(len(boxes),3)) \n",
    "\n",
    "    try:\n",
    "        for i in indexes.flatten():\n",
    "            x,y,w,h=boxes[i]\n",
    "            label=str(classes[classids[i]])\n",
    "            track[label]+=1\n",
    "            confidence=str(round(confidences[i],2))\n",
    "            color=colors[i]\n",
    "            left=round(x-(w/2))\n",
    "            top=round(y-(h/2))\n",
    "            right=round(x+(w/2))\n",
    "            bottom=round(y+(h/2))\n",
    "            objects1[label+str(track[label])]=[[left,top],[right,bottom]]\n",
    "            cv2.rectangle(frame,(left,top),(right,bottom),color,2)\n",
    "            cv2.putText(frame,label+\" \"+str(track[label])+\" \"+str(confidence),(round(left+10),top-10),font,fontScale=0.5,color=(0,0,0))\n",
    "            pos=((left+right)//2,(top+bottom)//2)\n",
    "            objects[label+str(track[label])]=pos\n",
    "            pos1=(pos[0]+5,pos[1]+10)\n",
    "            cv2.putText(frame,\"({},{})\".format(pos[0],pos[1]),pos1,fontFace=cv2.FONT_HERSHEY_PLAIN,fontScale=0.8,color=(0,0,1))\n",
    "            cv2.circle(frame,pos,3,color=(0,0,255))\n",
    "    except:\n",
    "        pass\n",
    "    cv2.imshow('Frame',frame)\n",
    "    if(\"Karan\" in takeCommand()):\n",
    "        assistant()\n",
    "    if cv2.waitKey(1) & 0xFF == ord('q'):\n",
    "        vid.release()\n",
    "        cv2.destroyAllWindows()"
   ]
  },
  {
   "cell_type": "code",
   "execution_count": null,
   "metadata": {},
   "outputs": [],
   "source": [
    "objects"
   ]
  },
  {
   "cell_type": "code",
   "execution_count": 6,
   "metadata": {},
   "outputs": [],
   "source": [
    "def line_distance(a,b,c,x,y):\n",
    "    return a*x+b*y+c/(np.sqrt(a**2+b**2))"
   ]
  },
  {
   "cell_type": "code",
   "execution_count": 7,
   "metadata": {},
   "outputs": [],
   "source": [
    "def point_distance(x1,y1,x2,y2):\n",
    "    return np.sqrt((x2-x1)**2+(y2-y1)**2)"
   ]
  },
  {
   "cell_type": "code",
   "execution_count": 8,
   "metadata": {},
   "outputs": [],
   "source": [
    "def direct(point1,point2,obj,height,width):\n",
    "    if point1[0]>point2[0]+(width/2) and (point1[1]<=point2[1]+(height/2) and point1[1]>=point2[1]-(height/2)):\n",
    "        return(\"It is to the right of {}\".format(obj))\n",
    "    elif point1[0]<point2[0]-(width/2) and (point1[1]<=point2[1]+(height/2) and point1[1]>=point2[1]-(height/2)):\n",
    "        return(\"It is to the left of {q}\".format(obj))\n",
    "    elif point1[1]<point2[1]+(height/2):\n",
    "        \n",
    "        return(\"It is on the {}\".format(obj))\n",
    "    elif point1[1]>point2[1]-(height/2):\n",
    "        return(\"It is under the {}\".format(obj))\n",
    "    else:\n",
    "        return(\"It is with the {}\".format(obj))"
   ]
  },
  {
   "cell_type": "code",
   "execution_count": 9,
   "metadata": {},
   "outputs": [],
   "source": [
    "def locate(obj):\n",
    "    if obj in objects.keys():\n",
    "        point=objects[obj]\n",
    "        l1=[0,0]\n",
    "        l2=np.polyfit((640,0),(640,480),1)\n",
    "        l3=np.polyfit((640,480),(480,0),1)\n",
    "        l4=[0,0]\n",
    "        distances={}\n",
    "        l1_d=line_distance(l1[0],1,l1[1],point[0],point[1])\n",
    "        l2_d=line_distance(l2[0],1,l2[1],point[0],point[1])\n",
    "        l3_d=line_distance(l3[0],1,l3[1],point[0],point[1])\n",
    "        l4_d=line_distance(l4[0],1,l4[1],point[0],point[1])\n",
    "        distances[l1_d]='l1'\n",
    "        distances[l2_d]='l2'\n",
    "        distances[l3_d]='l3'\n",
    "        distances[l4_d]='l4'\n",
    "        for k,v in objects.items():\n",
    "            if k==obj:\n",
    "                continue\n",
    "            else:\n",
    "                coors=objects1[k]\n",
    "                distances[point_distance(v[0],v[1],point[0],point[1])/((coors[1][1]-coors[0][1])*(coors[1][0]-coors[0][0]))]=k\n",
    "                index=min([k for k in distances.keys()])\n",
    "            #print(distances)\n",
    "            min_obj=(distances[index])\n",
    "        try:\n",
    "            if min_obj in ['l1','l2','l3','l4']:\n",
    "                return(\"cannot find object\")\n",
    "            else:\n",
    "                coors=objects1[min_obj]\n",
    "                height=(coors[1][1]-coors[0][1])\n",
    "                width=(coors[1][0]-coors[0][0])\n",
    "                return direct(point,objects[min_obj],min_obj,height,width)\n",
    "        except:\n",
    "            return(\"object is near your surroundings please look carefully!\")\n",
    "    else:\n",
    "        return(\"Cannot locate object\")"
   ]
  },
  {
   "cell_type": "code",
   "execution_count": 10,
   "metadata": {},
   "outputs": [
    {
     "ename": "NameError",
     "evalue": "name 'objects' is not defined",
     "output_type": "error",
     "traceback": [
      "\u001b[1;31m---------------------------------------------------------------------------\u001b[0m",
      "\u001b[1;31mNameError\u001b[0m                                 Traceback (most recent call last)",
      "\u001b[1;32m<ipython-input-10-20f99df2d9d5>\u001b[0m in \u001b[0;36m<module>\u001b[1;34m\u001b[0m\n\u001b[1;32m----> 1\u001b[1;33m \u001b[0mprint\u001b[0m\u001b[1;33m(\u001b[0m\u001b[0mlocate\u001b[0m\u001b[1;33m(\u001b[0m\u001b[1;34m'person1'\u001b[0m\u001b[1;33m)\u001b[0m\u001b[1;33m)\u001b[0m\u001b[1;33m\u001b[0m\u001b[1;33m\u001b[0m\u001b[0m\n\u001b[0m",
      "\u001b[1;32m<ipython-input-9-bc99c47e6cea>\u001b[0m in \u001b[0;36mlocate\u001b[1;34m(obj)\u001b[0m\n\u001b[0;32m      1\u001b[0m \u001b[1;32mdef\u001b[0m \u001b[0mlocate\u001b[0m\u001b[1;33m(\u001b[0m\u001b[0mobj\u001b[0m\u001b[1;33m)\u001b[0m\u001b[1;33m:\u001b[0m\u001b[1;33m\u001b[0m\u001b[1;33m\u001b[0m\u001b[0m\n\u001b[1;32m----> 2\u001b[1;33m     \u001b[1;32mif\u001b[0m \u001b[0mobj\u001b[0m \u001b[1;32min\u001b[0m \u001b[0mobjects\u001b[0m\u001b[1;33m.\u001b[0m\u001b[0mkeys\u001b[0m\u001b[1;33m(\u001b[0m\u001b[1;33m)\u001b[0m\u001b[1;33m:\u001b[0m\u001b[1;33m\u001b[0m\u001b[1;33m\u001b[0m\u001b[0m\n\u001b[0m\u001b[0;32m      3\u001b[0m         \u001b[0mpoint\u001b[0m\u001b[1;33m=\u001b[0m\u001b[0mobjects\u001b[0m\u001b[1;33m[\u001b[0m\u001b[0mobj\u001b[0m\u001b[1;33m]\u001b[0m\u001b[1;33m\u001b[0m\u001b[1;33m\u001b[0m\u001b[0m\n\u001b[0;32m      4\u001b[0m         \u001b[0ml1\u001b[0m\u001b[1;33m=\u001b[0m\u001b[1;33m[\u001b[0m\u001b[1;36m0\u001b[0m\u001b[1;33m,\u001b[0m\u001b[1;36m0\u001b[0m\u001b[1;33m]\u001b[0m\u001b[1;33m\u001b[0m\u001b[1;33m\u001b[0m\u001b[0m\n\u001b[0;32m      5\u001b[0m         \u001b[0ml2\u001b[0m\u001b[1;33m=\u001b[0m\u001b[0mnp\u001b[0m\u001b[1;33m.\u001b[0m\u001b[0mpolyfit\u001b[0m\u001b[1;33m(\u001b[0m\u001b[1;33m(\u001b[0m\u001b[1;36m640\u001b[0m\u001b[1;33m,\u001b[0m\u001b[1;36m0\u001b[0m\u001b[1;33m)\u001b[0m\u001b[1;33m,\u001b[0m\u001b[1;33m(\u001b[0m\u001b[1;36m640\u001b[0m\u001b[1;33m,\u001b[0m\u001b[1;36m480\u001b[0m\u001b[1;33m)\u001b[0m\u001b[1;33m,\u001b[0m\u001b[1;36m1\u001b[0m\u001b[1;33m)\u001b[0m\u001b[1;33m\u001b[0m\u001b[1;33m\u001b[0m\u001b[0m\n",
      "\u001b[1;31mNameError\u001b[0m: name 'objects' is not defined"
     ]
    }
   ],
   "source": [
    "print(locate('person1'))"
   ]
  },
  {
   "cell_type": "code",
   "execution_count": 11,
   "metadata": {},
   "outputs": [],
   "source": [
    "### voice assistant (karen)"
   ]
  },
  {
   "cell_type": "code",
   "execution_count": 10,
   "metadata": {},
   "outputs": [],
   "source": [
    "import win32com.client as wincl\n",
    "s = wincl.Dispatch(\"SAPI.SpVoice\")\n",
    "import datetime\n",
    "import speech_recognition as sr\n",
    "import wikipedia\n",
    "import webbrowser\n",
    "import os\n",
    "import numpy as np\n",
    "import pyaudio"
   ]
  },
  {
   "cell_type": "code",
   "execution_count": 11,
   "metadata": {},
   "outputs": [],
   "source": [
    "def speak(audio):\n",
    "    s.Speak(audio)"
   ]
  },
  {
   "cell_type": "code",
   "execution_count": 12,
   "metadata": {},
   "outputs": [],
   "source": [
    "def wish(query):\n",
    "    hour=int(datetime.datetime.now().hour)\n",
    "    if(hour>=0 and hour <12):\n",
    "        speak(\"good morning sir!\")\n",
    "    elif(hour>=12 and hour<18):\n",
    "        speak(\"good afternoon sir!\")\n",
    "    else:\n",
    "        speak(\"good evening sir!\")\n",
    "    speak(\"i am Karan ! how may i help you?\")\n",
    "    query=takeCommand().lower()\n",
    "    if \"say hi\" in query:\n",
    "        speak(\"hii ! ellavunnaru!\")"
   ]
  },
  {
   "cell_type": "code",
   "execution_count": 13,
   "metadata": {},
   "outputs": [],
   "source": [
    "def takeCommand():\n",
    "    r=sr.Recognizer()\n",
    "    with sr.Microphone() as source:\n",
    "        print(\"Listening....\")\n",
    "        audio=r.listen(source)\n",
    "    try:\n",
    "        print(\"Recognizing....\")\n",
    "        query=r.recognize_google(audio,language='en-in')\n",
    "    except Exception as e:\n",
    "        #speak(\"Say that again please....\")\n",
    "        return \"None\"\n",
    "    return query"
   ]
  },
  {
   "cell_type": "code",
   "execution_count": 14,
   "metadata": {},
   "outputs": [],
   "source": [
    "def assistant():\n",
    "    query=takeCommand().lower()\n",
    "    if \"hai\" or \"hey\" or \"hello\" in query:\n",
    "        wish(query)\n",
    "    while True:\n",
    "        query=takeCommand().lower()\n",
    "        if ('what'and 'is' and 'the' and 'time') in query:\n",
    "            hour=(datetime.datetime.now().hour)\n",
    "            minute=(datetime.datetime.now().minute)\n",
    "            if(hour<=12):\n",
    "                speak(\"the time is\"+str(hour)+\"!\"+str(minute)+\"AM\")\n",
    "            else:\n",
    "                speak(\"the time is\"+str(hour-12)+\"!\"+str(minute)+\"PM\")\n",
    "        elif 'locate' in query:\n",
    "            query=query.split()\n",
    "            obj=query[query.index('locate')+1]\n",
    "            speak(locate(obj)+str(\"!sir\"))\n",
    "        elif 'open' in query:\n",
    "            if 'youtube' in query:\n",
    "                webbrowser.open(\"youtube.com\")\n",
    "            elif 'google' in query:\n",
    "                webbrowser.open(\"google.com\")\n",
    "            elif 'facebook' in query:\n",
    "                webbrowser.open(\"facebook.com\")\n",
    "            elif 'mail' in query:\n",
    "                webbrowser.open(\"gmail.com\")\n",
    "        elif ((('who'and 'made'and 'you')in query) or (('where'and 'are'and 'you'and 'born')in query) or (('who'and 'are'and 'you')in query) or (('what'and'are'and'you')in query) ):\n",
    "            speak(\"i am a voice assistant , i am made by my master Dr.Y phani !rathan on experimenting in his lab\")\n",
    "        elif 'play ' and 'music' in query:\n",
    "            songs=os.listdir(r\"C:\\Users\\User\\Music\")\n",
    "            num=np.random.randint(2,4)\n",
    "            os.startfile(os.path.join('C:/Users/User/Music',songs[num]))\n",
    "        elif (('what' and 'is')in query)or (('say'and'something'and'about')in query):\n",
    "            speak('please wait sir i am searching for your request')\n",
    "            if 'what is' in query:\n",
    "                query=query.replace(\"what is\",\"\")\n",
    "            else:\n",
    "                query=query.replace(\"say something about\",\"\")\n",
    "            results=wikipedia.summary(query,sentences=2)\n",
    "            speak(\"On my search i have found that !\")\n",
    "            speak(results)\n",
    "            \n",
    "        elif 'stop' in query:\n",
    "            speak(\"Thank You sir\")\n",
    "            break"
   ]
  },
  {
   "cell_type": "code",
   "execution_count": null,
   "metadata": {},
   "outputs": [],
   "source": []
  }
 ],
 "metadata": {
  "kernelspec": {
   "display_name": "Python 3",
   "language": "python",
   "name": "python3"
  },
  "language_info": {
   "codemirror_mode": {
    "name": "ipython",
    "version": 3
   },
   "file_extension": ".py",
   "mimetype": "text/x-python",
   "name": "python",
   "nbconvert_exporter": "python",
   "pygments_lexer": "ipython3",
   "version": "3.7.6"
  }
 },
 "nbformat": 4,
 "nbformat_minor": 4
}
